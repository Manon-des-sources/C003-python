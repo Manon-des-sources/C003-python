{
 "cells": [
  {
   "cell_type": "markdown",
   "metadata": {},
   "source": [
    "#### psutil 用于系统监控\n",
    "[psutil使用](https://www.liaoxuefeng.com/wiki/0014316089557264a6b348958f449949df42a6d3a2e542c000/001511052957192bb91a56a2339485c8a8c79812b400d49000)"
   ]
  },
  {
   "cell_type": "code",
   "execution_count": 5,
   "metadata": {},
   "outputs": [
    {
     "name": "stdout",
     "output_type": "stream",
     "text": [
      "4\n",
      "4\n",
      "scputimes(user=3032.34375, system=1909.578125, idle=48471.28125, interrupt=83.671875, dpc=115.390625)\n",
      "[7.8, 1.6, 9.4, 4.7]\n",
      "[4.7, 6.3, 3.2, 4.6]\n",
      "[1.6, 0.0, 3.2, 0.0]\n",
      "[3.1, 4.7, 3.1, 3.2]\n",
      "[0.0, 0.0, 1.6, 1.5]\n",
      "[6.2, 1.5, 4.7, 4.6]\n",
      "[4.7, 1.6, 1.6, 3.1]\n",
      "[0.0, 0.0, 1.6, 0.0]\n",
      "[1.6, 6.2, 1.6, 0.0]\n",
      "[1.6, 6.3, 4.8, 1.6]\n"
     ]
    }
   ],
   "source": [
    "import psutil\n",
    "\n",
    "# CPU 逻辑数\n",
    "print(psutil.cpu_count())\n",
    "# CPU 物理核心数\n",
    "print(psutil.cpu_count(logical=False))\n",
    "\n",
    "# CPU 用户/系统/空闲时间\n",
    "print(psutil.cpu_times())\n",
    "\n",
    "# CPU 使用率\n",
    "for x in range(10):\n",
    "    print(psutil.cpu_percent(interval=1, percpu=True))"
   ]
  },
  {
   "cell_type": "markdown",
   "metadata": {},
   "source": [
    "#### 获取进程信息"
   ]
  },
  {
   "cell_type": "code",
   "execution_count": 44,
   "metadata": {},
   "outputs": [
    {
     "data": {
      "text/plain": [
       "('python.exe',\n",
       " 'C:\\\\ProgramData\\\\Anaconda3\\\\python.exe',\n",
       " ['C:\\\\ProgramData\\\\Anaconda3\\\\python.exe',\n",
       "  'C:\\\\ProgramData\\\\Anaconda3\\\\Scripts\\\\jupyter-notebook-script.py'],\n",
       " 1844,\n",
       " psutil.Process(pid=1844, name='jupyter-notebook.exe', started='19:20:25'))"
      ]
     },
     "execution_count": 44,
     "metadata": {},
     "output_type": "execute_result"
    }
   ],
   "source": [
    "# 所有进程ID\n",
    "# psutil.pids()\n",
    "\n",
    "# 获取指定进程\n",
    "p = psutil.Process(3244)\n",
    "\n",
    "# 名称、路径、启动进程的命令行，父进程ID、父进程\n",
    "p.name(), p.exe(), p.cmdline(), p.ppid(), p.parent()"
   ]
  },
  {
   "cell_type": "markdown",
   "metadata": {},
   "source": [
    "#### 获取内存信息\n",
    "物理内存和交换内存信息(返回内存的字节数)"
   ]
  },
  {
   "cell_type": "code",
   "execution_count": 8,
   "metadata": {},
   "outputs": [
    {
     "data": {
      "text/plain": [
       "(svmem(total=7463190528, available=4509515776, percent=39.6, used=2953674752, free=4509515776),\n",
       " sswap(total=8671150080, used=3193573376, free=5477576704, percent=36.8, sin=0, sout=0))"
      ]
     },
     "execution_count": 8,
     "metadata": {},
     "output_type": "execute_result"
    }
   ],
   "source": [
    "psutil.virtual_memory(), psutil.swap_memory()"
   ]
  },
  {
   "cell_type": "markdown",
   "metadata": {},
   "source": [
    "#### 获取磁盘信息"
   ]
  },
  {
   "cell_type": "code",
   "execution_count": 11,
   "metadata": {},
   "outputs": [
    {
     "data": {
      "text/plain": [
       "([sdiskpart(device='C:\\\\', mountpoint='C:\\\\', fstype='NTFS', opts='rw,fixed'),\n",
       "  sdiskpart(device='D:\\\\', mountpoint='D:\\\\', fstype='NTFS', opts='rw,fixed'),\n",
       "  sdiskpart(device='E:\\\\', mountpoint='E:\\\\', fstype='NTFS', opts='rw,fixed')],\n",
       " sdiskusage(total=186038349824, used=19233497088, free=166804852736, percent=10.3),\n",
       " sdiskio(read_count=235465, write_count=141097, read_bytes=6996605440, write_bytes=3139612160, read_time=250, write_time=44))"
      ]
     },
     "execution_count": 11,
     "metadata": {},
     "output_type": "execute_result"
    }
   ],
   "source": [
    "# 磁盘分区信息，磁盘使用情况，磁盘IO\n",
    "psutil.disk_partitions(), psutil.disk_usage('/'), psutil.disk_io_counters()"
   ]
  },
  {
   "cell_type": "markdown",
   "metadata": {},
   "source": [
    "#### 获取网络信息"
   ]
  },
  {
   "cell_type": "code",
   "execution_count": 15,
   "metadata": {},
   "outputs": [
    {
     "data": {
      "text/plain": [
       "snetio(bytes_sent=28008770, bytes_recv=962509446, packets_sent=239987, packets_recv=4518, errin=0, errout=0, dropin=0, dropout=0)"
      ]
     },
     "execution_count": 15,
     "metadata": {},
     "output_type": "execute_result"
    }
   ],
   "source": [
    "# 网络读写字节/包的个数\n",
    "psutil.net_io_counters()"
   ]
  },
  {
   "cell_type": "code",
   "execution_count": 25,
   "metadata": {},
   "outputs": [],
   "source": [
    "# 网络接口信息\n",
    "# psutil.net_if_addrs()"
   ]
  },
  {
   "cell_type": "code",
   "execution_count": 24,
   "metadata": {},
   "outputs": [],
   "source": [
    "# 网络接口状态\n",
    "# psutil.net_if_stats()"
   ]
  },
  {
   "cell_type": "code",
   "execution_count": 23,
   "metadata": {},
   "outputs": [],
   "source": [
    "# 网络连接信息\n",
    "# psutil.net_connections()"
   ]
  },
  {
   "cell_type": "markdown",
   "metadata": {},
   "source": [
    "#### 模拟ps命令"
   ]
  },
  {
   "cell_type": "code",
   "execution_count": 46,
   "metadata": {},
   "outputs": [],
   "source": [
    "# psutil.test()"
   ]
  }
 ],
 "metadata": {
  "kernelspec": {
   "display_name": "Python 3",
   "language": "python",
   "name": "python3"
  },
  "language_info": {
   "codemirror_mode": {
    "name": "ipython",
    "version": 3
   },
   "file_extension": ".py",
   "mimetype": "text/x-python",
   "name": "python",
   "nbconvert_exporter": "python",
   "pygments_lexer": "ipython3",
   "version": "3.6.5"
  }
 },
 "nbformat": 4,
 "nbformat_minor": 2
}
