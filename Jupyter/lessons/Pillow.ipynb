{
 "cells": [
  {
   "cell_type": "markdown",
   "metadata": {},
   "source": [
    "#### Pillow 是图像处理标准库\n",
    "[Pillow教程](https://www.liaoxuefeng.com/wiki/0014316089557264a6b348958f449949df42a6d3a2e542c000/0014320027235877860c87af5544f25a8deeb55141d60c5000)"
   ]
  },
  {
   "cell_type": "code",
   "execution_count": 19,
   "metadata": {},
   "outputs": [
    {
     "name": "stdout",
     "output_type": "stream",
     "text": [
      "Original image size = 300 * 169\n",
      "Resized image size = 150 * 84\n",
      "New image size = 150 * 84\n"
     ]
    }
   ],
   "source": [
    "from PIL import Image\n",
    "\n",
    "rick_and_morty = Image.open('../images/rick_and_morty.png')\n",
    "width, heitht = rick_and_morty.size\n",
    "rick_and_morty.show()\n",
    "print('Original image size = %s * %s' % (width, heitht))\n",
    "# 缩放到 50%\n",
    "rick_and_morty.thumbnail((width//2, heitht//2))\n",
    "print('Resized image size = %s * %s' % ((width//2, heitht//2)))\n",
    "rick_and_morty.save('../images/new_rick_and_morty.png', 'png')\n",
    "rick_and_morty.close()\n",
    "\n",
    "new_rick_and_morty = Image.open('../images/new_rick_and_morty.png')\n",
    "width, heitht = new_rick_and_morty.size\n",
    "print('New image size = %s * %s' % (width, heitht))"
   ]
  },
  {
   "cell_type": "markdown",
   "metadata": {},
   "source": [
    "#### ImageDraw 绘图方法"
   ]
  },
  {
   "cell_type": "code",
   "execution_count": 35,
   "metadata": {},
   "outputs": [],
   "source": [
    "from PIL import Image\n",
    "from PIL import ImageDraw\n",
    "from PIL import ImageFont\n",
    "from PIL import ImageFilter\n",
    "\n",
    "import random\n",
    "\n",
    "def radChar():\n",
    "    return chr(random.randint(65, 100))\n",
    "\n",
    "def radColor():\n",
    "    return (random.randint(64, 255), random.randint(64, 255), random.randint(64, 255))\n",
    "\n",
    "def radColor_2():\n",
    "    return (random.randint(64, 255), random.randint(64, 255), random.randint(64, 255))\n",
    "\n",
    "width, heitht = 64*4, 60\n",
    "image = Image.new('RGB', (width, heigh), (255, 255, 255))\n",
    "\n",
    "# 打不开字体资源时、可以把字体资源(C:\\Windows\\Fonts)复制到工程里面来\n",
    "# font = ImageFont.truetype('../files/Arial.ttf', 36)\n",
    "# 或者这样\n",
    "font = ImageFont.truetype('arial.ttf', 36)\n",
    "draw = ImageDraw.Draw(image)\n",
    "\n",
    "for x in range(width):\n",
    "    for y in range(heitht):\n",
    "        draw.point((x, y), fill=radColor())\n",
    "\n",
    "for t in range(4):\n",
    "    draw.text((60 * t + 10, 10), radChar(), font=font, fill=radColor_2())\n",
    "\n",
    "# 滤镜处理\n",
    "# image = image.filter(ImageFilter.BLUR)\n",
    "# image = image.filter(ImageFilter.CONTOUR)\n",
    "# image = image.filter(ImageFilter.DETAIL)\n",
    "# image = image.filter(ImageFilter.EDGE_ENHANCE)\n",
    "image = image.filter(ImageFilter.EDGE_ENHANCE_MORE)\n",
    "# image = image.filter(ImageFilter.EMBOSS)\n",
    "# image = image.filter(ImageFilter.SHARPEN)\n",
    "image.save('../images/code.jpg', 'jpeg')\n",
    "image.show()"
   ]
  },
  {
   "cell_type": "code",
   "execution_count": null,
   "metadata": {},
   "outputs": [],
   "source": []
  }
 ],
 "metadata": {
  "kernelspec": {
   "display_name": "Python 3",
   "language": "python",
   "name": "python3"
  },
  "language_info": {
   "codemirror_mode": {
    "name": "ipython",
    "version": 3
   },
   "file_extension": ".py",
   "mimetype": "text/x-python",
   "name": "python",
   "nbconvert_exporter": "python",
   "pygments_lexer": "ipython3",
   "version": "3.6.5"
  }
 },
 "nbformat": 4,
 "nbformat_minor": 2
}
