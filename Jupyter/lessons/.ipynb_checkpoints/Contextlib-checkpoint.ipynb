{
 "cells": [
  {
   "cell_type": "code",
   "execution_count": null,
   "metadata": {},
   "outputs": [],
   "source": [
    "?print        = 打开print文档\n",
    "Shift + Enter = 运行\n",
    "Esc   + B     = 新建行\n",
    "Esc   + M     = .md行\n",
    "D     + D     = 删除本行"
   ]
  },
  {
   "cell_type": "markdown",
   "metadata": {},
   "source": [
    "# contextlib\n",
    "上下文管理"
   ]
  },
  {
   "cell_type": "markdown",
   "metadata": {},
   "source": [
    "#### 读写文件结束后需要关闭文件"
   ]
  },
  {
   "cell_type": "code",
   "execution_count": 2,
   "metadata": {},
   "outputs": [
    {
     "name": "stdout",
     "output_type": "stream",
     "text": [
      "begin\n",
      "name = try.txt\n",
      "end\n",
      "\n"
     ]
    }
   ],
   "source": [
    "try:\n",
    "    f = open('../files/try.txt', 'r')\n",
    "    print(f.read())\n",
    "finally:\n",
    "    if f:\n",
    "        f.close()"
   ]
  },
  {
   "cell_type": "markdown",
   "metadata": {},
   "source": [
    "#### with语句会自动关闭对象"
   ]
  },
  {
   "cell_type": "code",
   "execution_count": 3,
   "metadata": {},
   "outputs": [
    {
     "name": "stdout",
     "output_type": "stream",
     "text": [
      "begin\n",
      "name = try.txt\n",
      "end\n",
      "\n"
     ]
    }
   ],
   "source": [
    "with open('../files/try.txt', 'r') as f:\n",
    "    print(f.read())"
   ]
  },
  {
   "cell_type": "markdown",
   "metadata": {},
   "source": [
    "#### 任何实现了上下文管理方法(\\__enter__(), \\__exit__())的对象都可以在with语句中自动关闭\n",
    "```Python\n",
    "with body as thing:\n",
    "    do-something\n",
    "```\n",
    "1、执行 body 语句、生成上下文管理器  \n",
    "2、调用上下文管理器的 __enter__ 方法、并将 __enter__ 方法的返回值赋值给 thing  \n",
    "3、执行 do-something  \n",
    "4、执行上下文管理器的 __exit__ 方法  \n",
    "5、如果执行 do-something 出现正常、或 do-something 里面有 break/continue/return，调用 __exit__(None, None, None)  \n",
    "6、如果执行 do-something 出现异常，调用 __exit__(exc_type, exc_value, traceback)，其中三个参数来自 sys.exc_info  \n",
    "7、最后、 __exit__ 返回 False，则重新抛出异常、让 with 语句之外的语句处理；否则忽略异常  "
   ]
  },
  {
   "cell_type": "code",
   "execution_count": 17,
   "metadata": {},
   "outputs": [],
   "source": [
    "class Query(object):\n",
    "    def __init__(self, name):\n",
    "        self.name = name\n",
    "    def __enter__(self):\n",
    "        print('Begin')\n",
    "        return self\n",
    "    def __exit__(self, exc_type, exc_value, traceback):\n",
    "        if exc_type:\n",
    "            print('Error')\n",
    "        else:\n",
    "            print('End')\n",
    "        return self\n",
    "    def query(self):\n",
    "        print('Query info about %s' % self.name)"
   ]
  },
  {
   "cell_type": "code",
   "execution_count": 18,
   "metadata": {},
   "outputs": [
    {
     "name": "stdout",
     "output_type": "stream",
     "text": [
      "Begin\n",
      "Query info about Chen\n",
      "End\n"
     ]
    }
   ],
   "source": [
    "with Query('Chen') as q:\n",
    "    q.query()"
   ]
  },
  {
   "cell_type": "markdown",
   "metadata": {},
   "source": [
    "#### contextlib提供了 @contextmanager 来外挂 \\__enter__ 和 \\__exit__ 功能\n",
    "他把一个对象变成了上下文对象"
   ]
  },
  {
   "cell_type": "code",
   "execution_count": 22,
   "metadata": {},
   "outputs": [],
   "source": [
    "from contextlib import contextmanager\n",
    "\n",
    "class Query(object):\n",
    "    def __init__(self, name):\n",
    "        self.name = name\n",
    "    def query(self):\n",
    "        print('Query info about %s' % self.name)\n",
    "\n",
    "@contextmanager\n",
    "def create_query(name):\n",
    "    print(\"Begin\")\n",
    "    q = Query(name)\n",
    "    yield q\n",
    "    print(\"End\")\n",
    "    # 看起来这个 装饰器 就是把自己执行两次\n",
    "    # 可以用来在代码/对象前后自动执行特定代码"
   ]
  },
  {
   "cell_type": "code",
   "execution_count": 23,
   "metadata": {},
   "outputs": [
    {
     "name": "stdout",
     "output_type": "stream",
     "text": [
      "Begin\n",
      "Query info about Chen\n",
      "End\n"
     ]
    }
   ],
   "source": [
    "with create_query('Chen') as q:\n",
    "    q.query()"
   ]
  },
  {
   "cell_type": "markdown",
   "metadata": {},
   "source": [
    "#### 使用 @contextmanager 在对象/代码前后执行特定的代码"
   ]
  },
  {
   "cell_type": "code",
   "execution_count": 25,
   "metadata": {},
   "outputs": [
    {
     "name": "stdout",
     "output_type": "stream",
     "text": [
      "<!!!>\n",
      "hello\n",
      "world\n",
      "<!!!>\n"
     ]
    }
   ],
   "source": [
    "@contextmanager\n",
    "def tag(text):\n",
    "    print('<%s>' % text)\n",
    "    yield\n",
    "    print('<%s>' % text)\n",
    "\n",
    "with tag('!!!'):\n",
    "    print('hello')\n",
    "    print('world')\n",
    "\n",
    "# 先执行 yield 之前的语句\n",
    "# 遇到 yield 时返回 with 语句并执行 with 语句(两个 print 语句)\n",
    "# 最后执行 yield 之后的语句"
   ]
  },
  {
   "cell_type": "markdown",
   "metadata": {},
   "source": [
    "#### 使用 closing 将一个对象变成上下文对象"
   ]
  },
  {
   "cell_type": "code",
   "execution_count": 31,
   "metadata": {},
   "outputs": [
    {
     "name": "stdout",
     "output_type": "stream",
     "text": [
      "b'<!doctype html>\\n'\n",
      "b'<!--[if lt IE 7]>   <html class=\"no-js ie6 lt-ie7 lt-ie8 lt-ie9\">   <![endif]-->\\n'\n",
      "b'<!--[if IE 7]>      <html class=\"no-js ie7 lt-ie8 lt-ie9\">          <![endif]-->\\n'\n",
      "b'<!--[if IE 8]>      <html class=\"no-js ie8 lt-ie9\">                 <![endif]-->\\n'\n"
     ]
    }
   ],
   "source": [
    "from contextlib     import closing\n",
    "from urllib.request import urlopen\n",
    "\n",
    "with closing(urlopen('https://www.python.org')) as python_page:\n",
    "    count = 0\n",
    "    for lines in python_page:\n",
    "        print(lines)\n",
    "        count += 1\n",
    "        if count == 4:\n",
    "            break"
   ]
  },
  {
   "cell_type": "code",
   "execution_count": 33,
   "metadata": {},
   "outputs": [],
   "source": [
    "# 模仿一个 closing\n",
    "@ contextmanager\n",
    "def iclosing(do):\n",
    "    try:\n",
    "        yield do\n",
    "    finally:\n",
    "        do.close()"
   ]
  },
  {
   "cell_type": "code",
   "execution_count": null,
   "metadata": {},
   "outputs": [],
   "source": []
  }
 ],
 "metadata": {
  "kernelspec": {
   "display_name": "Python 3",
   "language": "python",
   "name": "python3"
  },
  "language_info": {
   "codemirror_mode": {
    "name": "ipython",
    "version": 3
   },
   "file_extension": ".py",
   "mimetype": "text/x-python",
   "name": "python",
   "nbconvert_exporter": "python",
   "pygments_lexer": "ipython3",
   "version": "3.6.5"
  }
 },
 "nbformat": 4,
 "nbformat_minor": 2
}
