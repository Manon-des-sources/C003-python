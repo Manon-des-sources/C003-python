{
 "cells": [
  {
   "cell_type": "markdown",
   "metadata": {},
   "source": [
    "#### 异步IO用于解决 CPU 速度 和 IO 速度不匹配的问题\n",
    "使用消息机制来实现异步IO  \n",
    "消息环：  \n",
    "```python\n",
    "loop = get_event_loop()\n",
    "while True:\n",
    "    event = loop.get_event()\n",
    "    process_event(event)\n",
    "```\n",
    "GUI：  \n",
    "主程序中使用消息环读取并处理消息  \n",
    "键盘、鼠标等消息会被发送到GUI的消息队列  \n",
    "但必须保证每个消息处理都不会消耗很长时间(否则会出现阻塞)  \n",
    "\n",
    "双向消息机制：  \n",
    "需要操作IO的模块发出IO使用请求(一个消息)  \n",
    "主程序查询消息并将启动IO执行模块  \n",
    "IO执行模块执行结束后发送一个IO执行完成的消息  \n",
    "主程序将这个IO完成消息发送给请求IO操作的模块  "
   ]
  },
  {
   "cell_type": "markdown",
   "metadata": {},
   "source": [
    "#### 协程(微线程 Coroutine)\n",
    "\n",
    "一个线程就是执行一个程序  \n",
    "假如在协程中，有程序 a 和程序 b  \n",
    "那么在执行程序 a 时可以随时中断去执行程序 b、在执行程序 b 时又可以随时中断去执行程序 a、...  \n",
    "\n",
    "由于子程序的切换不需要上下文切换(不是线程切换)，所以效率高  \n",
    "避免了多线程的锁的需求  "
   ]
  },
  {
   "cell_type": "markdown",
   "metadata": {},
   "source": [
    "#### 使用 Python 的生成器实现协程\n",
    "\n",
    "Python 的 yield 可以返回一个值，还可以接收调用者发出的参数"
   ]
  },
  {
   "cell_type": "code",
   "execution_count": 2,
   "metadata": {},
   "outputs": [
    {
     "name": "stdout",
     "output_type": "stream",
     "text": [
      "[Producer] producing 1\n",
      "[Consumer] consuming 1\n",
      "[Producer] Consumer return 200 ok\n",
      "[Producer] producing 2\n",
      "[Consumer] consuming 2\n",
      "[Producer] Consumer return 200 ok\n",
      "[Producer] producing 3\n",
      "[Consumer] consuming 3\n",
      "[Producer] Consumer return 200 ok\n",
      "[Producer] producing 4\n",
      "[Consumer] consuming 4\n",
      "[Producer] Consumer return 200 ok\n",
      "[Producer] producing 5\n",
      "[Consumer] consuming 5\n",
      "[Producer] Consumer return 200 ok\n"
     ]
    }
   ],
   "source": [
    "# 消费者\n",
    "def consumer():\n",
    "    r = ''\n",
    "    while True:\n",
    "        # consumer 是一个生成器 generator\n",
    "        n = yield r\n",
    "        if not n:\n",
    "            return\n",
    "        print('[Consumer] consuming %s' % n)\n",
    "        r = '200 ok'\n",
    "\n",
    "# 生产者\n",
    "def producer(c):\n",
    "    c.send(None)  # 启动生成器、进而调用 consumer，同时将参数传给生成器、生成器通过 yield 接收这个参数\n",
    "    n = 0\n",
    "    while n < 5:\n",
    "        n += 1\n",
    "        print('[Producer] producing %s' % n)\n",
    "        r = c.send(n)  # 启动生成器、进而调用 consumer，同时将参数传给生成器、生成器通过 yield 接收这个参数\n",
    "        print('[Producer] Consumer return %s' % r)\n",
    "    c.close()\n",
    "\n",
    "c = consumer()\n",
    "producer(c)"
   ]
  },
  {
   "cell_type": "code",
   "execution_count": null,
   "metadata": {},
   "outputs": [],
   "source": []
  }
 ],
 "metadata": {
  "kernelspec": {
   "display_name": "Python 3",
   "language": "python",
   "name": "python3"
  },
  "language_info": {
   "codemirror_mode": {
    "name": "ipython",
    "version": 3
   },
   "file_extension": ".py",
   "mimetype": "text/x-python",
   "name": "python",
   "nbconvert_exporter": "python",
   "pygments_lexer": "ipython3",
   "version": "3.6.5"
  }
 },
 "nbformat": 4,
 "nbformat_minor": 2
}
