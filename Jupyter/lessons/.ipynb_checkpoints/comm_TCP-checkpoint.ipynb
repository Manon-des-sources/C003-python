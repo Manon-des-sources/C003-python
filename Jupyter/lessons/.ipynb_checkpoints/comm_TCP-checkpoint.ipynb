{
 "cells": [
  {
   "cell_type": "markdown",
   "metadata": {},
   "source": [
    "#### 用一个Socket表示\"打开了一个网络连接\"\n",
    "打开 Socket 需要知道目标计算机的 IP、Port，以及通信协议  \n",
    "\n",
    "客户端：主动发起连接的计算机  \n",
    "服务器：被动响应的计算机  "
   ]
  },
  {
   "cell_type": "markdown",
   "metadata": {},
   "source": [
    "端口 | 服务类型 |\n",
    "---- | -------- |\n",
    "80   | Web网页服务[http] |\n",
    "443   | Web网页服务[https] |\n",
    "25   | SMTP服务   |\n",
    "21   | FTP服务    |\n",
    "<1024 | Internet标准服务 |\n",
    ">1024 | 自定义用途     |\n"
   ]
  },
  {
   "cell_type": "markdown",
   "metadata": {},
   "source": [
    "#### 创建一个基于 TCP 连接的 Socket\n",
    "HTTP 标准规定：客户端必须先发送请求到服务器、服务器收到后才回复数据"
   ]
  },
  {
   "cell_type": "code",
   "execution_count": 44,
   "metadata": {},
   "outputs": [
    {
     "name": "stdout",
     "output_type": "stream",
     "text": [
      "ParseResult(scheme='https', netloc='i.cnblogs.com', path='/EditPosts.aspx', params='', query='opt=1', fragment='')\n",
      "['i.cnblogs.com'] 1 i.cnblogs.com\n"
     ]
    }
   ],
   "source": [
    "from urllib import parse\n",
    "\n",
    "url = 'https://i.cnblogs.com/EditPosts.aspx?opt=1'\n",
    "up = parse.urlparse(url)\n",
    "print(up)\n",
    "\n",
    "dest = up.netloc.split(':')\n",
    "print(dest, len(dest))"
   ]
  },
  {
   "cell_type": "code",
   "execution_count": 33,
   "metadata": {},
   "outputs": [],
   "source": [
    "from urllib import parse\n",
    "import socket\n",
    "import ssl\n",
    "\n",
    "def https_comm(url):\n",
    "    proto = 'http'\n",
    "    host  = ''\n",
    "    port  = 80\n",
    "    up = parse.urlparse(url)\n",
    "    \n",
    "    # https://i.cnblogs.com/EditPosts.aspx?opt=1\n",
    "    # (scheme='https', netloc='i.cnblogs.com', path='/EditPosts.aspx', params='', query='opt=1', fragment='')\n",
    "    # 其中 scheme 是协议  netloc 是域名服务器  path 相对路径  params是参数，query是查询的条件\n",
    "    print(up)\n",
    "    \n",
    "    if(up.scheme != ''):\n",
    "        proto = up.scheme\n",
    "        print('proto = %s' % proto)\n",
    "        \n",
    "    dest = up.netloc.split(':')\n",
    "    if(len(dest) == 2):\n",
    "        port = int(dest[1]) # 自带端口?\n",
    "    else:\n",
    "        if proto == 'http':\n",
    "            port = 80\n",
    "        elif port == 'https':\n",
    "            port = 443\n",
    "    host = destp[0]\n",
    "    \n",
    "# 创建一个Socket(AF_INET=IPv4、SOCK_STREAM=面向流的TCP协议)\n",
    "s = socket.socket(socket.AF_INET, socket.SOCK_STREAM)\n",
    "# 建立连接(IP/域名，端口)\n",
    "s.connect(('www.douban.com', 443))\n",
    "\n",
    "# 发送数据\n",
    "s.send(b'GET / HTTP/1.1\\r\\nHost: www.douban.com\\r\\nConnection: close\\r\\n\\r\\n')\n",
    "\n",
    "# 接收数据\n",
    "buffer = []\n",
    "\n",
    "while True:\n",
    "    d = s.recv(1024) # 每次最多接收1024个字节\n",
    "    if d:\n",
    "        buffer.append(d)\n",
    "    else:\n",
    "        break\n",
    "data = b''.join(buffer)\n",
    "# print(data)\n",
    "\n",
    "# 关闭连接\n",
    "s.close()"
   ]
  },
  {
   "cell_type": "code",
   "execution_count": 34,
   "metadata": {},
   "outputs": [
    {
     "name": "stdout",
     "output_type": "stream",
     "text": [
      "[header]:\r\n",
      " HTTP/1.1 400 Bad Request\r\n",
      "Date: Sat, 09 Mar 2019 12:34:30 GMT\r\n",
      "Content-Type: text/html\r\n",
      "Transfer-Encoding: chunked\r\n",
      "Connection: close\r\n",
      "Server: dae\n",
      "[html]:\r\n",
      " 108\r\n",
      "<html>\r\n",
      "<head><title>400 The plain HTTP request was sent to HTTPS port</title></head>\r\n",
      "<body bgcolor=\"white\">\r\n",
      "<center><h1>400 Bad Request</h1></center>\r\n",
      "<center>The plain HTTP request was sent to HTTPS port</center>\r\n",
      "<hr><center>nginx</center>\r\n",
      "</body>\r\n",
      "</html>\r\n",
      "\r\n",
      "0\r\n",
      "\r\n",
      "\n"
     ]
    }
   ],
   "source": [
    "# 上面收到的数据包括 HTTP 头 和 网页本身\n",
    "header, html = data.split(b'\\r\\n\\r\\n', 1)\n",
    "print('[header]:\\r\\n', header.decode('utf-8'))\n",
    "print('[html]:\\r\\n', html.decode('utf-8'))\n",
    "\n",
    "with open('../files/sina.html', 'wb') as f:\n",
    "    f.write(html)"
   ]
  },
  {
   "cell_type": "code",
   "execution_count": null,
   "metadata": {},
   "outputs": [],
   "source": []
  }
 ],
 "metadata": {
  "kernelspec": {
   "display_name": "Python 3",
   "language": "python",
   "name": "python3"
  },
  "language_info": {
   "codemirror_mode": {
    "name": "ipython",
    "version": 3
   },
   "file_extension": ".py",
   "mimetype": "text/x-python",
   "name": "python",
   "nbconvert_exporter": "python",
   "pygments_lexer": "ipython3",
   "version": "3.6.5"
  }
 },
 "nbformat": 4,
 "nbformat_minor": 2
}
