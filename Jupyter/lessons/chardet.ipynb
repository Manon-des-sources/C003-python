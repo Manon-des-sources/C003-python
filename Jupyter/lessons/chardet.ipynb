{
 "cells": [
  {
   "cell_type": "markdown",
   "metadata": {},
   "source": [
    "#### chardet 用于检测字符串编码\n",
    "[chardet教程](https://www.liaoxuefeng.com/wiki/0014316089557264a6b348958f449949df42a6d3a2e542c000/001510905171877ca6fdf08614e446e835ea5d9bce75cf5000)  \n",
    "[chardet官网](https://chardet.readthedocs.io/en/latest/supported-encodings.html)"
   ]
  },
  {
   "cell_type": "code",
   "execution_count": 3,
   "metadata": {},
   "outputs": [
    {
     "data": {
      "text/plain": [
       "{'encoding': 'ascii', 'confidence': 1.0, 'language': ''}"
      ]
     },
     "execution_count": 3,
     "metadata": {},
     "output_type": "execute_result"
    }
   ],
   "source": [
    "import chardet\n",
    "chardet.detect(b'hello world!')\n",
    "\n",
    "# confidence字段 = 1.0 表示 100%的概率"
   ]
  },
  {
   "cell_type": "code",
   "execution_count": 8,
   "metadata": {},
   "outputs": [
    {
     "data": {
      "text/plain": [
       "({'encoding': 'GB2312', 'confidence': 0.99, 'language': 'Chinese'},\n",
       " {'encoding': 'utf-8', 'confidence': 0.9690625, 'language': ''},\n",
       " {'encoding': 'EUC-JP', 'confidence': 0.99, 'language': 'Japanese'})"
      ]
     },
     "execution_count": 8,
     "metadata": {},
     "output_type": "execute_result"
    }
   ],
   "source": [
    "chn = '床前明月光'.encode('gbk')\n",
    "utf = '疑是地上霜'.encode('utf-8')\n",
    "jpa = '最新の主要ニュース'.encode('euc-jp')\n",
    "\n",
    "chardet.detect(chn), chardet.detect(utf), chardet.detect(jpa)"
   ]
  },
  {
   "cell_type": "code",
   "execution_count": null,
   "metadata": {},
   "outputs": [],
   "source": []
  }
 ],
 "metadata": {
  "kernelspec": {
   "display_name": "Python 3",
   "language": "python",
   "name": "python3"
  },
  "language_info": {
   "codemirror_mode": {
    "name": "ipython",
    "version": 3
   },
   "file_extension": ".py",
   "mimetype": "text/x-python",
   "name": "python",
   "nbconvert_exporter": "python",
   "pygments_lexer": "ipython3",
   "version": "3.6.5"
  }
 },
 "nbformat": 4,
 "nbformat_minor": 2
}
