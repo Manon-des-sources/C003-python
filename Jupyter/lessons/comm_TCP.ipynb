{
 "cells": [
  {
   "cell_type": "markdown",
   "metadata": {},
   "source": [
    "#### 用一个Socket表示\"打开了一个网络连接\"\n",
    "打开 Socket 需要知道目标计算机的 IP、Port，以及通信协议  \n",
    "\n",
    "客户端：主动发起连接的计算机  \n",
    "服务器：被动响应的计算机  "
   ]
  },
  {
   "cell_type": "markdown",
   "metadata": {},
   "source": [
    "端口 | 服务类型 |\n",
    "---- | -------- |\n",
    "80   | Web网页服务[http] |\n",
    "443   | Web网页服务[https] |\n",
    "25   | SMTP服务   |\n",
    "21   | FTP服务    |\n",
    "<1024 | Internet标准服务 |\n",
    ">1024 | 自定义用途     |\n"
   ]
  },
  {
   "cell_type": "markdown",
   "metadata": {},
   "source": [
    "#### 创建一个基于 TCP 连接的 Socket\n",
    "HTTP 标准规定：客户端必须先发送请求到服务器、服务器收到后才回复数据"
   ]
  },
  {
   "cell_type": "code",
   "execution_count": 49,
   "metadata": {},
   "outputs": [
    {
     "name": "stdout",
     "output_type": "stream",
     "text": [
      "ParseResult(scheme='https', netloc='www.cnblogs.com', path='/xie-kun/p/7858358.html', params='', query='', fragment='')\n",
      "['www.cnblogs.com'] 1\n"
     ]
    }
   ],
   "source": [
    "from urllib import parse\n",
    "\n",
    "url = 'https://www.cnblogs.com/xie-kun/p/7858358.html'\n",
    "up = parse.urlparse(url)\n",
    "print(up)\n",
    "\n",
    "dest = up.netloc.split(':')\n",
    "print(dest, len(dest))"
   ]
  },
  {
   "cell_type": "code",
   "execution_count": 47,
   "metadata": {},
   "outputs": [],
   "source": [
    "from urllib import parse\n",
    "import socket\n",
    "import ssl\n",
    "\n",
    "def https_comm(url):\n",
    "    proto = 'http'\n",
    "    host  = ''\n",
    "    port  = 80\n",
    "    up = parse.urlparse(url)\n",
    "    \n",
    "    # https://i.cnblogs.com/EditPosts.aspx?opt=1\n",
    "    # (scheme='https', netloc='i.cnblogs.com', path='/EditPosts.aspx', params='', query='opt=1', fragment='')\n",
    "    # 其中 scheme 是协议  netloc 是域名服务器  path 相对路径  params是参数，query是查询的条件\n",
    "    print(up)\n",
    "    \n",
    "    if(up.scheme != ''):\n",
    "        proto = up.scheme\n",
    "        print('proto = %s' % proto)\n",
    "        \n",
    "    dest = up.netloc.split(':')\n",
    "    if(len(dest) == 2):\n",
    "        port = int(dest[1]) # 自带端口?\n",
    "    else:\n",
    "        if proto == 'http':\n",
    "            port = 80\n",
    "        elif port == 'https':\n",
    "            port = 443\n",
    "\n",
    "    host = dest[0]\n",
    "    if proto == 'http':\n",
    "        # 创建一个Socket(AF_INET=IPv4、SOCK_STREAM=面向流的TCP协议)\n",
    "        s = socket.socket(socket.AF_INET, socket.SOCK_STREAM)\n",
    "    elif proto == 'https':\n",
    "        s = ssl.wrap_socket(socket.socket())\n",
    "    \n",
    "    s.settimeout(5)\n",
    "    # 建立连接(IP/域名，端口)\n",
    "    try:\n",
    "        s.connect((host, port))\n",
    "    except Exception as e:\n",
    "        print('error = %s' % e)\n",
    "        return None\n",
    "    \n",
    "    # 发送数据\n",
    "    s.send(b'GET %s HTTP/1.1\\r\\nHost: %s\\r\\n' % (up.path, host))\n",
    "\n",
    "    # 接收数据\n",
    "    buffer = []\n",
    "    while True:\n",
    "        d = s.recv(1024) # 每次最多接收1024个字节\n",
    "        if d:\n",
    "            buffer.append(d)\n",
    "        else:\n",
    "            break\n",
    "    data = b''.join(buffer)\n",
    "    # print(data)\n",
    "\n",
    "    # 关闭连接\n",
    "    s.close()\n",
    "    \n",
    "    # 上面收到的数据包括 HTTP 头 和 网页本身\n",
    "    header, html = data.split(b'\\r\\n\\r\\n', 1)\n",
    "    print('[header]:\\r\\n', header.decode('utf-8'))\n",
    "    print('[html]:\\r\\n', html.decode('utf-8'))\n",
    "\n",
    "    with open('../files/sina.html', 'wb') as f:\n",
    "        f.write(html)"
   ]
  },
  {
   "cell_type": "code",
   "execution_count": 48,
   "metadata": {},
   "outputs": [
    {
     "name": "stdout",
     "output_type": "stream",
     "text": [
      "ParseResult(scheme='https', netloc='www.cnblogs.com', path='/xie-kun/p/7858358.html', params='', query='', fragment='')\n",
      "proto = https\n",
      "error = [SSL: UNKNOWN_PROTOCOL] unknown protocol (_ssl.c:833)\n"
     ]
    }
   ],
   "source": [
    "https_comm('https://www.cnblogs.com/xie-kun/p/7858358.html')"
   ]
  },
  {
   "cell_type": "code",
   "execution_count": null,
   "metadata": {},
   "outputs": [],
   "source": []
  }
 ],
 "metadata": {
  "kernelspec": {
   "display_name": "Python 3",
   "language": "python",
   "name": "python3"
  },
  "language_info": {
   "codemirror_mode": {
    "name": "ipython",
    "version": 3
   },
   "file_extension": ".py",
   "mimetype": "text/x-python",
   "name": "python",
   "nbconvert_exporter": "python",
   "pygments_lexer": "ipython3",
   "version": "3.6.5"
  }
 },
 "nbformat": 4,
 "nbformat_minor": 2
}
