{
 "cells": [
  {
   "cell_type": "markdown",
   "metadata": {},
   "source": [
    "#### urllib.request 模块用于抓取 URL 内容(发送一个 GET 请求到指定页面)，然后返回 HEEP 的响应\n",
    "教程：[urllib](https://www.liaoxuefeng.com/wiki/0014316089557264a6b348958f449949df42a6d3a2e542c000/001432688314740a0aed473a39f47b09c8c7274c9ab6aee000)"
   ]
  },
  {
   "cell_type": "code",
   "execution_count": 3,
   "metadata": {},
   "outputs": [
    {
     "name": "stdout",
     "output_type": "stream",
     "text": [
      "Status: 200 OK\n",
      "Date: Sat, 09 Mar 2019 09:39:44 GMT\n",
      "Content-Type: application/json; charset=utf-8\n",
      "Content-Length: 2138\n",
      "Connection: close\n",
      "Vary: Accept-Encoding\n",
      "X-Ratelimit-Remaining2: 97\n",
      "X-Ratelimit-Limit2: 100\n",
      "Expires: Sun, 1 Jan 2006 01:00:00 GMT\n",
      "Pragma: no-cache\n",
      "Cache-Control: must-revalidate, no-cache, private\n",
      "Set-Cookie: bid=Nqer9BsgKD4; Expires=Sun, 08-Mar-20 09:39:44 GMT; Domain=.douban.com; Path=/\n",
      "X-DOUBAN-NEWBID: Nqer9BsgKD4\n",
      "X-DAE-Node: anson13\n",
      "X-DAE-App: book\n",
      "Server: dae\n",
      "X-Frame-Options: SAMEORIGIN\n",
      "Data: {\"rating\":{\"max\":10,\"numRaters\":17,\"average\":\"8.3\",\"min\":0},\"subtitle\":\"\",\"author\":[\"廖雪峰\"],\"pubdate\":\"2007\",\"tags\":[{\"count\":23,\"name\":\"spring\",\"title\":\"spring\"},{\"count\":14,\"name\":\"Java\",\"title\":\"Java\"},{\"count\":6,\"name\":\"javaee\",\"title\":\"javaee\"},{\"count\":5,\"name\":\"j2ee\",\"title\":\"j2ee\"},{\"count\":4,\"name\":\"计算机\",\"title\":\"计算机\"},{\"count\":4,\"name\":\"藏书\",\"title\":\"藏书\"},{\"count\":4,\"name\":\"编程\",\"title\":\"编程\"},{\"count\":3,\"name\":\"POJO\",\"title\":\"POJO\"}],\"origin_title\":\"\",\"image\":\"https://img3.doubanio.com\\/view\\/subject\\/m\\/public\\/s2552283.jpg\",\"binding\":\"平装\",\"translator\":[],\"catalog\":\"\",\"pages\":\"509\",\"images\":{\"small\":\"https://img3.doubanio.com\\/view\\/subject\\/s\\/public\\/s2552283.jpg\",\"large\":\"https://img3.doubanio.com\\/view\\/subject\\/l\\/public\\/s2552283.jpg\",\"medium\":\"https://img3.doubanio.com\\/view\\/subject\\/m\\/public\\/s2552283.jpg\"},\"alt\":\"https:\\/\\/book.douban.com\\/subject\\/2129650\\/\",\"id\":\"2129650\",\"publisher\":\"电子工业出版社\",\"isbn10\":\"7121042622\",\"isbn13\":\"9787121042621\",\"title\":\"Spring 2.0核心技术与最佳实践\",\"url\":\"https:\\/\\/api.douban.com\\/v2\\/book\\/2129650\",\"alt_title\":\"\",\"author_intro\":\"\",\"summary\":\"本书注重实践而又深入理论，由浅入深且详细介绍了Spring 2.0框架的几乎全部的内容，并重点突出2.0版本的新特性。本书将为读者展示如何应用Spring 2.0框架创建灵活高效的JavaEE应用，并提供了一个真正可直接部署的完整的Web应用程序——Live在线书店(http:\\/\\/www.livebookstore.net)。\\n在介绍Spring框架的同时，本书还介绍了与Spring相关的大量第三方框架，涉及领域全面，实用性强。本书另一大特色是实用性强，易于上手，以实际项目为出发点，介绍项目开发中应遵循的最佳开发模式。\\n本书还介绍了大量实践性极强的例子，并给出了完整的配置步骤，几乎覆盖了Spring 2.0版本的新特性。\\n本书适合有一定Java基础的读者，对JavaEE开发人员特别有帮助。本书既可以作为Spring 2.0的学习指南，也可以作为实际项目开发的参考手册。\",\"price\":\"59.8\"}\n"
     ]
    }
   ],
   "source": [
    "from urllib import request\n",
    "\n",
    "with request.urlopen('https://api.douban.com/v2/book/2129650') as douban:\n",
    "    data = douban.read()\n",
    "    print('Status:', douban.status, douban.reason)\n",
    "    for k, v in douban.getheaders():\n",
    "        print('%s: %s' % (k, v))\n",
    "    print('Data:', data.decode('utf-8'))"
   ]
  }
 ],
 "metadata": {
  "kernelspec": {
   "display_name": "Python 3",
   "language": "python",
   "name": "python3"
  },
  "language_info": {
   "codemirror_mode": {
    "name": "ipython",
    "version": 3
   },
   "file_extension": ".py",
   "mimetype": "text/x-python",
   "name": "python",
   "nbconvert_exporter": "python",
   "pygments_lexer": "ipython3",
   "version": "3.6.5"
  }
 },
 "nbformat": 4,
 "nbformat_minor": 2
}
